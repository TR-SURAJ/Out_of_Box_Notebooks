{
 "cells": [
  {
   "cell_type": "code",
   "execution_count": 1,
   "metadata": {},
   "outputs": [],
   "source": [
    "import pandas as pd\n",
    "import numpy as np\n",
    "import matplotlib.pyplot as plt\n",
    "%matplotlib inline\n",
    "import seaborn as sns"
   ]
  },
  {
   "cell_type": "code",
   "execution_count": 2,
   "metadata": {},
   "outputs": [],
   "source": [
    "df = pd.read_csv('winequality-white.csv',sep = ';')"
   ]
  },
  {
   "cell_type": "code",
   "execution_count": 3,
   "metadata": {},
   "outputs": [
    {
     "data": {
      "text/html": [
       "<div>\n",
       "<style scoped>\n",
       "    .dataframe tbody tr th:only-of-type {\n",
       "        vertical-align: middle;\n",
       "    }\n",
       "\n",
       "    .dataframe tbody tr th {\n",
       "        vertical-align: top;\n",
       "    }\n",
       "\n",
       "    .dataframe thead th {\n",
       "        text-align: right;\n",
       "    }\n",
       "</style>\n",
       "<table border=\"1\" class=\"dataframe\">\n",
       "  <thead>\n",
       "    <tr style=\"text-align: right;\">\n",
       "      <th></th>\n",
       "      <th>fixed acidity</th>\n",
       "      <th>volatile acidity</th>\n",
       "      <th>citric acid</th>\n",
       "      <th>residual sugar</th>\n",
       "      <th>chlorides</th>\n",
       "      <th>free sulfur dioxide</th>\n",
       "      <th>total sulfur dioxide</th>\n",
       "      <th>density</th>\n",
       "      <th>pH</th>\n",
       "      <th>sulphates</th>\n",
       "      <th>alcohol</th>\n",
       "      <th>quality</th>\n",
       "    </tr>\n",
       "  </thead>\n",
       "  <tbody>\n",
       "    <tr>\n",
       "      <th>0</th>\n",
       "      <td>7.0</td>\n",
       "      <td>0.27</td>\n",
       "      <td>0.36</td>\n",
       "      <td>20.7</td>\n",
       "      <td>0.045</td>\n",
       "      <td>45.0</td>\n",
       "      <td>170.0</td>\n",
       "      <td>1.0010</td>\n",
       "      <td>3.00</td>\n",
       "      <td>0.45</td>\n",
       "      <td>8.8</td>\n",
       "      <td>6</td>\n",
       "    </tr>\n",
       "    <tr>\n",
       "      <th>1</th>\n",
       "      <td>6.3</td>\n",
       "      <td>0.30</td>\n",
       "      <td>0.34</td>\n",
       "      <td>1.6</td>\n",
       "      <td>0.049</td>\n",
       "      <td>14.0</td>\n",
       "      <td>132.0</td>\n",
       "      <td>0.9940</td>\n",
       "      <td>3.30</td>\n",
       "      <td>0.49</td>\n",
       "      <td>9.5</td>\n",
       "      <td>6</td>\n",
       "    </tr>\n",
       "    <tr>\n",
       "      <th>2</th>\n",
       "      <td>8.1</td>\n",
       "      <td>0.28</td>\n",
       "      <td>0.40</td>\n",
       "      <td>6.9</td>\n",
       "      <td>0.050</td>\n",
       "      <td>30.0</td>\n",
       "      <td>97.0</td>\n",
       "      <td>0.9951</td>\n",
       "      <td>3.26</td>\n",
       "      <td>0.44</td>\n",
       "      <td>10.1</td>\n",
       "      <td>6</td>\n",
       "    </tr>\n",
       "    <tr>\n",
       "      <th>3</th>\n",
       "      <td>7.2</td>\n",
       "      <td>0.23</td>\n",
       "      <td>0.32</td>\n",
       "      <td>8.5</td>\n",
       "      <td>0.058</td>\n",
       "      <td>47.0</td>\n",
       "      <td>186.0</td>\n",
       "      <td>0.9956</td>\n",
       "      <td>3.19</td>\n",
       "      <td>0.40</td>\n",
       "      <td>9.9</td>\n",
       "      <td>6</td>\n",
       "    </tr>\n",
       "    <tr>\n",
       "      <th>4</th>\n",
       "      <td>7.2</td>\n",
       "      <td>0.23</td>\n",
       "      <td>0.32</td>\n",
       "      <td>8.5</td>\n",
       "      <td>0.058</td>\n",
       "      <td>47.0</td>\n",
       "      <td>186.0</td>\n",
       "      <td>0.9956</td>\n",
       "      <td>3.19</td>\n",
       "      <td>0.40</td>\n",
       "      <td>9.9</td>\n",
       "      <td>6</td>\n",
       "    </tr>\n",
       "  </tbody>\n",
       "</table>\n",
       "</div>"
      ],
      "text/plain": [
       "   fixed acidity  volatile acidity  citric acid  residual sugar  chlorides  \\\n",
       "0            7.0              0.27         0.36            20.7      0.045   \n",
       "1            6.3              0.30         0.34             1.6      0.049   \n",
       "2            8.1              0.28         0.40             6.9      0.050   \n",
       "3            7.2              0.23         0.32             8.5      0.058   \n",
       "4            7.2              0.23         0.32             8.5      0.058   \n",
       "\n",
       "   free sulfur dioxide  total sulfur dioxide  density    pH  sulphates  \\\n",
       "0                 45.0                 170.0   1.0010  3.00       0.45   \n",
       "1                 14.0                 132.0   0.9940  3.30       0.49   \n",
       "2                 30.0                  97.0   0.9951  3.26       0.44   \n",
       "3                 47.0                 186.0   0.9956  3.19       0.40   \n",
       "4                 47.0                 186.0   0.9956  3.19       0.40   \n",
       "\n",
       "   alcohol  quality  \n",
       "0      8.8        6  \n",
       "1      9.5        6  \n",
       "2     10.1        6  \n",
       "3      9.9        6  \n",
       "4      9.9        6  "
      ]
     },
     "execution_count": 3,
     "metadata": {},
     "output_type": "execute_result"
    }
   ],
   "source": [
    "df.head()"
   ]
  },
  {
   "cell_type": "code",
   "execution_count": 4,
   "metadata": {},
   "outputs": [
    {
     "data": {
      "text/plain": [
       "6    2198\n",
       "5    1457\n",
       "7     880\n",
       "8     175\n",
       "4     163\n",
       "3      20\n",
       "9       5\n",
       "Name: quality, dtype: int64"
      ]
     },
     "execution_count": 4,
     "metadata": {},
     "output_type": "execute_result"
    }
   ],
   "source": [
    "df['quality'].value_counts()"
   ]
  },
  {
   "cell_type": "markdown",
   "metadata": {},
   "source": [
    "#### Separate the target feature[‘quality], split data in 7:3 proportion (30% form a holdout set, use random_state=17), and preprocess data with StandardScaler"
   ]
  },
  {
   "cell_type": "code",
   "execution_count": 5,
   "metadata": {},
   "outputs": [],
   "source": [
    "from sklearn.model_selection import train_test_split\n",
    "from sklearn.preprocessing import StandardScaler"
   ]
  },
  {
   "cell_type": "code",
   "execution_count": 6,
   "metadata": {},
   "outputs": [],
   "source": [
    "X = df.iloc[:,:-1]\n",
    "y = df.iloc[:,-1]"
   ]
  },
  {
   "cell_type": "code",
   "execution_count": 7,
   "metadata": {},
   "outputs": [
    {
     "data": {
      "text/plain": [
       "(4898, 11)"
      ]
     },
     "execution_count": 7,
     "metadata": {},
     "output_type": "execute_result"
    }
   ],
   "source": [
    "X.shape"
   ]
  },
  {
   "cell_type": "code",
   "execution_count": 8,
   "metadata": {},
   "outputs": [
    {
     "data": {
      "text/plain": [
       "Index(['fixed acidity', 'volatile acidity', 'citric acid', 'residual sugar',\n",
       "       'chlorides', 'free sulfur dioxide', 'total sulfur dioxide', 'density',\n",
       "       'pH', 'sulphates', 'alcohol'],\n",
       "      dtype='object')"
      ]
     },
     "execution_count": 8,
     "metadata": {},
     "output_type": "execute_result"
    }
   ],
   "source": [
    "X.columns"
   ]
  },
  {
   "cell_type": "code",
   "execution_count": 9,
   "metadata": {},
   "outputs": [
    {
     "data": {
      "text/plain": [
       "(4898,)"
      ]
     },
     "execution_count": 9,
     "metadata": {},
     "output_type": "execute_result"
    }
   ],
   "source": [
    "y.shape"
   ]
  },
  {
   "cell_type": "code",
   "execution_count": 35,
   "metadata": {},
   "outputs": [],
   "source": [
    "X_train,X_test,y_train,y_test = train_test_split(X,y,test_size = 0.3,random_state = 17,stratify = y)"
   ]
  },
  {
   "cell_type": "code",
   "execution_count": 36,
   "metadata": {},
   "outputs": [
    {
     "data": {
      "text/plain": [
       "(3428, 11)"
      ]
     },
     "execution_count": 36,
     "metadata": {},
     "output_type": "execute_result"
    }
   ],
   "source": [
    "X_train.shape"
   ]
  },
  {
   "cell_type": "code",
   "execution_count": 37,
   "metadata": {},
   "outputs": [
    {
     "data": {
      "text/plain": [
       "(1470, 11)"
      ]
     },
     "execution_count": 37,
     "metadata": {},
     "output_type": "execute_result"
    }
   ],
   "source": [
    "X_test.shape"
   ]
  },
  {
   "cell_type": "code",
   "execution_count": 38,
   "metadata": {},
   "outputs": [
    {
     "data": {
      "text/plain": [
       "(3428,)"
      ]
     },
     "execution_count": 38,
     "metadata": {},
     "output_type": "execute_result"
    }
   ],
   "source": [
    "y_train.shape"
   ]
  },
  {
   "cell_type": "code",
   "execution_count": 39,
   "metadata": {},
   "outputs": [
    {
     "data": {
      "text/plain": [
       "(1470,)"
      ]
     },
     "execution_count": 39,
     "metadata": {},
     "output_type": "execute_result"
    }
   ],
   "source": [
    "y_test.shape"
   ]
  },
  {
   "cell_type": "code",
   "execution_count": 40,
   "metadata": {},
   "outputs": [],
   "source": [
    "std = StandardScaler()\n",
    "X_train = std.fit_transform(X_train)\n",
    "X_test = std.transform(X_test)"
   ]
  },
  {
   "cell_type": "code",
   "execution_count": 41,
   "metadata": {},
   "outputs": [],
   "source": [
    "X_train = pd.DataFrame(X_train,columns = X.columns)\n",
    "X_test = pd.DataFrame(X_test,columns = X.columns)"
   ]
  },
  {
   "cell_type": "code",
   "execution_count": 17,
   "metadata": {},
   "outputs": [
    {
     "data": {
      "text/html": [
       "<div>\n",
       "<style scoped>\n",
       "    .dataframe tbody tr th:only-of-type {\n",
       "        vertical-align: middle;\n",
       "    }\n",
       "\n",
       "    .dataframe tbody tr th {\n",
       "        vertical-align: top;\n",
       "    }\n",
       "\n",
       "    .dataframe thead th {\n",
       "        text-align: right;\n",
       "    }\n",
       "</style>\n",
       "<table border=\"1\" class=\"dataframe\">\n",
       "  <thead>\n",
       "    <tr style=\"text-align: right;\">\n",
       "      <th></th>\n",
       "      <th>fixed acidity</th>\n",
       "      <th>volatile acidity</th>\n",
       "      <th>citric acid</th>\n",
       "      <th>residual sugar</th>\n",
       "      <th>chlorides</th>\n",
       "      <th>free sulfur dioxide</th>\n",
       "      <th>total sulfur dioxide</th>\n",
       "      <th>density</th>\n",
       "      <th>pH</th>\n",
       "      <th>sulphates</th>\n",
       "      <th>alcohol</th>\n",
       "    </tr>\n",
       "  </thead>\n",
       "  <tbody>\n",
       "    <tr>\n",
       "      <th>0</th>\n",
       "      <td>0.045378</td>\n",
       "      <td>-0.173104</td>\n",
       "      <td>-0.528275</td>\n",
       "      <td>-0.445142</td>\n",
       "      <td>-0.677637</td>\n",
       "      <td>-0.927039</td>\n",
       "      <td>-1.389477</td>\n",
       "      <td>-1.084059</td>\n",
       "      <td>-0.444674</td>\n",
       "      <td>-0.883837</td>\n",
       "      <td>0.817485</td>\n",
       "    </tr>\n",
       "    <tr>\n",
       "      <th>1</th>\n",
       "      <td>1.469218</td>\n",
       "      <td>-0.272327</td>\n",
       "      <td>0.372317</td>\n",
       "      <td>-0.524410</td>\n",
       "      <td>0.236744</td>\n",
       "      <td>-1.045704</td>\n",
       "      <td>-0.222353</td>\n",
       "      <td>-0.431196</td>\n",
       "      <td>0.147841</td>\n",
       "      <td>-0.973705</td>\n",
       "      <td>0.817485</td>\n",
       "    </tr>\n",
       "    <tr>\n",
       "      <th>2</th>\n",
       "      <td>-0.666543</td>\n",
       "      <td>0.819123</td>\n",
       "      <td>-0.446403</td>\n",
       "      <td>-0.782031</td>\n",
       "      <td>-0.494761</td>\n",
       "      <td>-1.045704</td>\n",
       "      <td>-1.556209</td>\n",
       "      <td>-1.839466</td>\n",
       "      <td>-0.576344</td>\n",
       "      <td>-0.164897</td>\n",
       "      <td>1.886611</td>\n",
       "    </tr>\n",
       "    <tr>\n",
       "      <th>3</th>\n",
       "      <td>0.045378</td>\n",
       "      <td>1.612904</td>\n",
       "      <td>-1.265123</td>\n",
       "      <td>1.060949</td>\n",
       "      <td>0.236744</td>\n",
       "      <td>-0.571046</td>\n",
       "      <td>-0.293810</td>\n",
       "      <td>1.175325</td>\n",
       "      <td>0.279510</td>\n",
       "      <td>-0.075029</td>\n",
       "      <td>-1.156286</td>\n",
       "    </tr>\n",
       "    <tr>\n",
       "      <th>4</th>\n",
       "      <td>-0.666543</td>\n",
       "      <td>0.521455</td>\n",
       "      <td>0.699805</td>\n",
       "      <td>2.131067</td>\n",
       "      <td>-0.403323</td>\n",
       "      <td>1.268251</td>\n",
       "      <td>0.754220</td>\n",
       "      <td>1.633354</td>\n",
       "      <td>0.477015</td>\n",
       "      <td>0.733778</td>\n",
       "      <td>-0.909565</td>\n",
       "    </tr>\n",
       "  </tbody>\n",
       "</table>\n",
       "</div>"
      ],
      "text/plain": [
       "   fixed acidity  volatile acidity  citric acid  residual sugar  chlorides  \\\n",
       "0       0.045378         -0.173104    -0.528275       -0.445142  -0.677637   \n",
       "1       1.469218         -0.272327     0.372317       -0.524410   0.236744   \n",
       "2      -0.666543          0.819123    -0.446403       -0.782031  -0.494761   \n",
       "3       0.045378          1.612904    -1.265123        1.060949   0.236744   \n",
       "4      -0.666543          0.521455     0.699805        2.131067  -0.403323   \n",
       "\n",
       "   free sulfur dioxide  total sulfur dioxide   density        pH  sulphates  \\\n",
       "0            -0.927039             -1.389477 -1.084059 -0.444674  -0.883837   \n",
       "1            -1.045704             -0.222353 -0.431196  0.147841  -0.973705   \n",
       "2            -1.045704             -1.556209 -1.839466 -0.576344  -0.164897   \n",
       "3            -0.571046             -0.293810  1.175325  0.279510  -0.075029   \n",
       "4             1.268251              0.754220  1.633354  0.477015   0.733778   \n",
       "\n",
       "    alcohol  \n",
       "0  0.817485  \n",
       "1  0.817485  \n",
       "2  1.886611  \n",
       "3 -1.156286  \n",
       "4 -0.909565  "
      ]
     },
     "execution_count": 17,
     "metadata": {},
     "output_type": "execute_result"
    }
   ],
   "source": [
    "X_train.head()"
   ]
  },
  {
   "cell_type": "code",
   "execution_count": 18,
   "metadata": {},
   "outputs": [
    {
     "data": {
      "text/html": [
       "<div>\n",
       "<style scoped>\n",
       "    .dataframe tbody tr th:only-of-type {\n",
       "        vertical-align: middle;\n",
       "    }\n",
       "\n",
       "    .dataframe tbody tr th {\n",
       "        vertical-align: top;\n",
       "    }\n",
       "\n",
       "    .dataframe thead th {\n",
       "        text-align: right;\n",
       "    }\n",
       "</style>\n",
       "<table border=\"1\" class=\"dataframe\">\n",
       "  <thead>\n",
       "    <tr style=\"text-align: right;\">\n",
       "      <th></th>\n",
       "      <th>fixed acidity</th>\n",
       "      <th>volatile acidity</th>\n",
       "      <th>citric acid</th>\n",
       "      <th>residual sugar</th>\n",
       "      <th>chlorides</th>\n",
       "      <th>free sulfur dioxide</th>\n",
       "      <th>total sulfur dioxide</th>\n",
       "      <th>density</th>\n",
       "      <th>pH</th>\n",
       "      <th>sulphates</th>\n",
       "      <th>alcohol</th>\n",
       "    </tr>\n",
       "  </thead>\n",
       "  <tbody>\n",
       "    <tr>\n",
       "      <th>0</th>\n",
       "      <td>0.164031</td>\n",
       "      <td>0.025341</td>\n",
       "      <td>-0.037043</td>\n",
       "      <td>1.615825</td>\n",
       "      <td>-0.129008</td>\n",
       "      <td>0.674929</td>\n",
       "      <td>0.706582</td>\n",
       "      <td>1.824769</td>\n",
       "      <td>1.003695</td>\n",
       "      <td>1.632453</td>\n",
       "      <td>-1.403007</td>\n",
       "    </tr>\n",
       "    <tr>\n",
       "      <th>1</th>\n",
       "      <td>0.638645</td>\n",
       "      <td>-0.867663</td>\n",
       "      <td>-0.200787</td>\n",
       "      <td>1.596008</td>\n",
       "      <td>-0.037570</td>\n",
       "      <td>0.200272</td>\n",
       "      <td>1.302053</td>\n",
       "      <td>1.551319</td>\n",
       "      <td>-0.576344</td>\n",
       "      <td>0.104706</td>\n",
       "      <td>-1.074046</td>\n",
       "    </tr>\n",
       "    <tr>\n",
       "      <th>2</th>\n",
       "      <td>0.519991</td>\n",
       "      <td>-0.470772</td>\n",
       "      <td>0.044829</td>\n",
       "      <td>0.565524</td>\n",
       "      <td>0.282463</td>\n",
       "      <td>-0.986371</td>\n",
       "      <td>-1.246564</td>\n",
       "      <td>0.573734</td>\n",
       "      <td>-0.971354</td>\n",
       "      <td>0.643911</td>\n",
       "      <td>-0.416122</td>\n",
       "    </tr>\n",
       "    <tr>\n",
       "      <th>3</th>\n",
       "      <td>0.875951</td>\n",
       "      <td>2.009795</td>\n",
       "      <td>-0.446403</td>\n",
       "      <td>0.783511</td>\n",
       "      <td>0.145306</td>\n",
       "      <td>1.268251</td>\n",
       "      <td>1.587880</td>\n",
       "      <td>1.168488</td>\n",
       "      <td>0.345345</td>\n",
       "      <td>-0.344632</td>\n",
       "      <td>-0.991805</td>\n",
       "    </tr>\n",
       "    <tr>\n",
       "      <th>4</th>\n",
       "      <td>-0.191929</td>\n",
       "      <td>-0.768440</td>\n",
       "      <td>0.290445</td>\n",
       "      <td>-0.950476</td>\n",
       "      <td>-0.951952</td>\n",
       "      <td>0.378269</td>\n",
       "      <td>-0.841644</td>\n",
       "      <td>-1.313074</td>\n",
       "      <td>-0.510509</td>\n",
       "      <td>-0.344632</td>\n",
       "      <td>0.735244</td>\n",
       "    </tr>\n",
       "  </tbody>\n",
       "</table>\n",
       "</div>"
      ],
      "text/plain": [
       "   fixed acidity  volatile acidity  citric acid  residual sugar  chlorides  \\\n",
       "0       0.164031          0.025341    -0.037043        1.615825  -0.129008   \n",
       "1       0.638645         -0.867663    -0.200787        1.596008  -0.037570   \n",
       "2       0.519991         -0.470772     0.044829        0.565524   0.282463   \n",
       "3       0.875951          2.009795    -0.446403        0.783511   0.145306   \n",
       "4      -0.191929         -0.768440     0.290445       -0.950476  -0.951952   \n",
       "\n",
       "   free sulfur dioxide  total sulfur dioxide   density        pH  sulphates  \\\n",
       "0             0.674929              0.706582  1.824769  1.003695   1.632453   \n",
       "1             0.200272              1.302053  1.551319 -0.576344   0.104706   \n",
       "2            -0.986371             -1.246564  0.573734 -0.971354   0.643911   \n",
       "3             1.268251              1.587880  1.168488  0.345345  -0.344632   \n",
       "4             0.378269             -0.841644 -1.313074 -0.510509  -0.344632   \n",
       "\n",
       "    alcohol  \n",
       "0 -1.403007  \n",
       "1 -1.074046  \n",
       "2 -0.416122  \n",
       "3 -0.991805  \n",
       "4  0.735244  "
      ]
     },
     "execution_count": 18,
     "metadata": {},
     "output_type": "execute_result"
    }
   ],
   "source": [
    "X_test.head()"
   ]
  },
  {
   "cell_type": "markdown",
   "metadata": {},
   "source": [
    "#### Train a simple linear regression model using sci-kit learn and statsmodel"
   ]
  },
  {
   "cell_type": "code",
   "execution_count": 19,
   "metadata": {},
   "outputs": [],
   "source": [
    "from sklearn.linear_model import LinearRegression\n",
    "from sklearn.metrics import r2_score\n",
    "from sklearn.metrics import mean_squared_error"
   ]
  },
  {
   "cell_type": "code",
   "execution_count": 21,
   "metadata": {},
   "outputs": [
    {
     "name": "stdout",
     "output_type": "stream",
     "text": [
      "const                   5.878063\n",
      "fixed acidity           0.079914\n",
      "volatile acidity       -0.194917\n",
      "citric acid             0.006092\n",
      "residual sugar          0.513797\n",
      "chlorides               0.003631\n",
      "free sulfur dioxide     0.064458\n",
      "total sulfur dioxide   -0.011261\n",
      "density                -0.627832\n",
      "pH                      0.130793\n",
      "sulphates               0.078944\n",
      "alcohol                 0.132056\n",
      "dtype: float64\n",
      "<bound method LikelihoodModelResults.t_test of <statsmodels.regression.linear_model.OLSResults object at 0x000002482E421780>>\n"
     ]
    }
   ],
   "source": [
    "import statsmodels.api as sm\n",
    "\n",
    "X_train = sm.add_constant(X_train)\n",
    "model = sm.OLS(y_train.values.reshape(-1,1),X_train)\n",
    "results = model.fit()\n",
    "print(results.params)\n",
    "print(results.t_test)"
   ]
  },
  {
   "cell_type": "markdown",
   "metadata": {},
   "source": [
    "####  What are mean squared errors of model predictions on train and holdout sets?"
   ]
  },
  {
   "cell_type": "code",
   "execution_count": 20,
   "metadata": {},
   "outputs": [
    {
     "name": "stdout",
     "output_type": "stream",
     "text": [
      "train r2 0.285895017637131\n",
      "train mse 0.5605828974135778\n",
      "test r2 0.26331958690855894\n",
      "test mse 0.5762941540590937\n"
     ]
    }
   ],
   "source": [
    "lr = LinearRegression()\n",
    "lr.fit(X_train,y_train)\n",
    "ypred = lr.predict(X_test)\n",
    "ypredtr = lr.predict(X_train)\n",
    "\n",
    "print('train r2',r2_score(y_train,ypredtr))\n",
    "print('train mse',mean_squared_error(y_train,ypredtr))\n",
    "\n",
    "print('test r2',r2_score(y_test,ypred))\n",
    "print('test mse',mean_squared_error(y_test,ypred))"
   ]
  },
  {
   "cell_type": "code",
   "execution_count": 33,
   "metadata": {},
   "outputs": [
    {
     "data": {
      "text/plain": [
       "array([ 0.07991444, -0.19491695,  0.0060918 ,  0.51379698,  0.00363067,\n",
       "        0.06445806, -0.01126086, -0.62783196,  0.13079324,  0.07894375,\n",
       "        0.1320564 ])"
      ]
     },
     "execution_count": 33,
     "metadata": {},
     "output_type": "execute_result"
    }
   ],
   "source": [
    "lr.coef_"
   ]
  },
  {
   "cell_type": "markdown",
   "metadata": {},
   "source": [
    "#### Create a data frame to display coefficients of each features."
   ]
  },
  {
   "cell_type": "code",
   "execution_count": 32,
   "metadata": {},
   "outputs": [
    {
     "name": "stdout",
     "output_type": "stream",
     "text": [
      "                features      coef\n",
      "0                  const  5.878063\n",
      "1          fixed acidity  0.079914\n",
      "2       volatile acidity -0.194917\n",
      "3            citric acid  0.006092\n",
      "4         residual sugar  0.513797\n",
      "5              chlorides  0.003631\n",
      "6    free sulfur dioxide  0.064458\n",
      "7   total sulfur dioxide -0.011261\n",
      "8                density -0.627832\n",
      "9                     pH  0.130793\n",
      "10             sulphates  0.078944\n",
      "11               alcohol  0.132056\n"
     ]
    }
   ],
   "source": [
    "feats = results.params.index.tolist()\n",
    "vals=results.params.values.tolist()\n",
    "coefdf = pd.DataFrame({'features':feats,'coef':vals})\n",
    "print(coefdf)"
   ]
  },
  {
   "cell_type": "markdown",
   "metadata": {},
   "source": [
    "#### Which feature this linear regression model treats as the most influential on wine quality?"
   ]
  },
  {
   "cell_type": "markdown",
   "metadata": {},
   "source": [
    "- residual sugar\n",
    "- density"
   ]
  },
  {
   "cell_type": "markdown",
   "metadata": {},
   "source": [
    "#### Train a LASSO model with α=0.01and scaled data. Again, set random_state=17."
   ]
  },
  {
   "cell_type": "code",
   "execution_count": 42,
   "metadata": {},
   "outputs": [
    {
     "name": "stdout",
     "output_type": "stream",
     "text": [
      "train r2 0.27959294848997074\n",
      "train mse 0.5655301142366929\n",
      "test r2 0.27535366590713206\n",
      "test mse 0.5668800726567391\n"
     ]
    }
   ],
   "source": [
    "from sklearn.linear_model import Lasso\n",
    "lasso = Lasso(alpha = 0.01)\n",
    "lasso.fit(X_train,y_train)\n",
    "ypred = lasso.predict(X_test)\n",
    "ypredtr = lasso.predict(X_train)\n",
    "\n",
    "print('train r2',r2_score(y_train,ypredtr))\n",
    "print('train mse',mean_squared_error(y_train,ypredtr))\n",
    "\n",
    "print('test r2',r2_score(y_test,ypred))\n",
    "print('test mse',mean_squared_error(y_test,ypred))"
   ]
  },
  {
   "cell_type": "markdown",
   "metadata": {},
   "source": [
    "#### Which feature is the least informative in predicting wine quality, according to this LASSO model?"
   ]
  },
  {
   "cell_type": "code",
   "execution_count": 43,
   "metadata": {},
   "outputs": [
    {
     "data": {
      "text/plain": [
       "array([-3.38009800e-05, -1.94920473e-01,  0.00000000e+00,  2.59491913e-01,\n",
       "       -3.93414838e-03,  5.39557894e-02, -4.38768337e-03, -2.51797979e-01,\n",
       "        5.61063529e-02,  4.88794403e-02,  3.01726274e-01])"
      ]
     },
     "execution_count": 43,
     "metadata": {},
     "output_type": "execute_result"
    }
   ],
   "source": [
    "lasso.coef_"
   ]
  },
  {
   "cell_type": "markdown",
   "metadata": {},
   "source": [
    "citric acid : 0.00000000e+00"
   ]
  },
  {
   "cell_type": "markdown",
   "metadata": {},
   "source": [
    "####  Train LassoCV with random_state=17 to choose the best value of α- alpha in 5-fold cross-validation.(use LassoCV instead of Gridsearch). The list of alphas to be passed are [0.01,0.001,0.1,0.2,0.02,0.002]."
   ]
  },
  {
   "cell_type": "code",
   "execution_count": 49,
   "metadata": {},
   "outputs": [
    {
     "data": {
      "image/png": "[encoded data removed]",
      "text/plain": [
       "<Figure size 576x396 with 1 Axes>"
      ]
     },
     "metadata": {},
     "output_type": "display_data"
    },
    {
     "data": {
      "text/plain": [
       "<AxesSubplot:title={'center':'LassoCV Alpha Error'}, xlabel='alpha', ylabel='error (or score)'>"
      ]
     },
     "execution_count": 49,
     "metadata": {},
     "output_type": "execute_result"
    }
   ],
   "source": [
    "from yellowbrick.regressor import AlphaSelection\n",
    "\n",
    "alphas = [0.01,0.001,0.1,0.2,0.02,0.002]\n",
    "model = LassoCV(alphas = alphas,cv = 5)\n",
    "visualizer = AlphaSelection(model)\n",
    "visualizer.fit(X_train,y_train)\n",
    "visualizer.show()"
   ]
  },
  {
   "cell_type": "markdown",
   "metadata": {},
   "source": [
    "Best alpha = 0.001"
   ]
  },
  {
   "cell_type": "markdown",
   "metadata": {},
   "source": [
    "#### Which feature is the least informative in predicting wine quality, according to the tuned LASSO model?\n",
    "#### What are mean squared errors of tuned LASSO predictions on train and holdout sets? "
   ]
  },
  {
   "cell_type": "code",
   "execution_count": 50,
   "metadata": {},
   "outputs": [
    {
     "name": "stdout",
     "output_type": "stream",
     "text": [
      "train r2 0.2857585669380499\n",
      "train mse 0.5606900132160637\n",
      "test r2 0.26647506369424834\n",
      "test mse 0.5738256714002012\n"
     ]
    }
   ],
   "source": [
    "from sklearn.linear_model import Lasso\n",
    "lasso = Lasso(alpha = 0.001)\n",
    "lasso.fit(X_train,y_train)\n",
    "ypred = lasso.predict(X_test)\n",
    "ypredtr = lasso.predict(X_train)\n",
    "\n",
    "print('train r2',r2_score(y_train,ypredtr))\n",
    "print('train mse',mean_squared_error(y_train,ypredtr))\n",
    "\n",
    "print('test r2',r2_score(y_test,ypred))\n",
    "print('test mse',mean_squared_error(y_test,ypred))"
   ]
  },
  {
   "cell_type": "code",
   "execution_count": 51,
   "metadata": {},
   "outputs": [
    {
     "data": {
      "text/plain": [
       "array([ 0.06494699, -0.19515277,  0.00501045,  0.47570563,  0.        ,\n",
       "        0.06358222, -0.01098686, -0.57040776,  0.11859644,  0.07510056,\n",
       "        0.15759115])"
      ]
     },
     "execution_count": 51,
     "metadata": {},
     "output_type": "execute_result"
    }
   ],
   "source": [
    "lasso.coef_"
   ]
  },
  {
   "cell_type": "markdown",
   "metadata": {},
   "source": [
    "chlorides - 0."
   ]
  },
  {
   "cell_type": "markdown",
   "metadata": {},
   "source": [
    "#### Train a Random Forest, setting only random_state to be 17.\n",
    "#### What are mean squared errors of tuned randomforest predictions on train and holdout sets?"
   ]
  },
  {
   "cell_type": "code",
   "execution_count": 52,
   "metadata": {},
   "outputs": [
    {
     "name": "stdout",
     "output_type": "stream",
     "text": [
      "train r2 0.932834647970504\n",
      "train mse 0.052725787631271885\n",
      "test r2 0.5132128966422943\n",
      "test mse 0.38080632653061225\n"
     ]
    }
   ],
   "source": [
    "from sklearn.ensemble import RandomForestRegressor\n",
    "rf = RandomForestRegressor()\n",
    "rf.fit(X_train,y_train)\n",
    "ypred = rf.predict(X_test)\n",
    "ypredtr = rf.predict(X_train)\n",
    "\n",
    "print('train r2',r2_score(y_train,ypredtr))\n",
    "print('train mse',mean_squared_error(y_train,ypredtr))\n",
    "\n",
    "print('test r2',r2_score(y_test,ypred))\n",
    "print('test mse',mean_squared_error(y_test,ypred)) "
   ]
  },
  {
   "cell_type": "markdown",
   "metadata": {},
   "source": [
    "#### Tune the max_features and max_depth hyperparameters with GridSearchCV and again check mean cross-validation MSE and MSE on holdout set. Parameters to tune "
   ]
  },
  {
   "cell_type": "code",
   "execution_count": 59,
   "metadata": {},
   "outputs": [
    {
     "name": "stdout",
     "output_type": "stream",
     "text": [
      "{'max_depth': 24, 'max_features': 6}\n",
      "-0.37494164234847344\n"
     ]
    }
   ],
   "source": [
    "from sklearn.model_selection import GridSearchCV\n",
    "forest_params = {'max_depth': list(range(10, 25)), \n",
    "                'max_features': list(range(6,12))}\n",
    "\n",
    "\n",
    "\n",
    "rf = RandomForestRegressor()\n",
    "grid_search = GridSearchCV(rf, forest_params, cv=10, n_jobs=-1, scoring='neg_mean_squared_error')\n",
    "grid_search.fit(X_train,y_train)\n",
    "print(grid_search.best_params_)\n",
    "print(grid_search.best_score_)"
   ]
  },
  {
   "cell_type": "code",
   "execution_count": 60,
   "metadata": {},
   "outputs": [
    {
     "name": "stdout",
     "output_type": "stream",
     "text": [
      "train r2 0.9348227171688258\n",
      "train mse 0.05116512411683138\n",
      "test r2 0.5196840615192575\n",
      "test mse 0.37574403028617076\n"
     ]
    }
   ],
   "source": [
    "rf = RandomForestRegressor(max_depth = 24,max_features = 6)\n",
    "rf.fit(X_train,y_train)\n",
    "ypred = rf.predict(X_test)\n",
    "ypredtr = rf.predict(X_train)\n",
    "\n",
    "print('train r2',r2_score(y_train,ypredtr))\n",
    "print('train mse',mean_squared_error(y_train,ypredtr))\n",
    "\n",
    "print('test r2',r2_score(y_test,ypred))\n",
    "print('test mse',mean_squared_error(y_test,ypred)) "
   ]
  },
  {
   "cell_type": "markdown",
   "metadata": {},
   "source": [
    "#### Output RF's feature importance. Again, it's nice to present it as a DataFrame. What is the most important feature, according to the Random Forest model?"
   ]
  },
  {
   "cell_type": "code",
   "execution_count": 61,
   "metadata": {},
   "outputs": [],
   "source": [
    "feature_importances = pd.DataFrame(rf.feature_importances_,index = X_train.columns,columns=['importance']).sort_values('importance',ascending=False)"
   ]
  },
  {
   "cell_type": "code",
   "execution_count": 62,
   "metadata": {},
   "outputs": [
    {
     "data": {
      "text/html": [
       "<div>\n",
       "<style scoped>\n",
       "    .dataframe tbody tr th:only-of-type {\n",
       "        vertical-align: middle;\n",
       "    }\n",
       "\n",
       "    .dataframe tbody tr th {\n",
       "        vertical-align: top;\n",
       "    }\n",
       "\n",
       "    .dataframe thead th {\n",
       "        text-align: right;\n",
       "    }\n",
       "</style>\n",
       "<table border=\"1\" class=\"dataframe\">\n",
       "  <thead>\n",
       "    <tr style=\"text-align: right;\">\n",
       "      <th></th>\n",
       "      <th>importance</th>\n",
       "    </tr>\n",
       "  </thead>\n",
       "  <tbody>\n",
       "    <tr>\n",
       "      <th>alcohol</th>\n",
       "      <td>0.192386</td>\n",
       "    </tr>\n",
       "    <tr>\n",
       "      <th>volatile acidity</th>\n",
       "      <td>0.121149</td>\n",
       "    </tr>\n",
       "    <tr>\n",
       "      <th>free sulfur dioxide</th>\n",
       "      <td>0.106062</td>\n",
       "    </tr>\n",
       "    <tr>\n",
       "      <th>density</th>\n",
       "      <td>0.101654</td>\n",
       "    </tr>\n",
       "    <tr>\n",
       "      <th>total sulfur dioxide</th>\n",
       "      <td>0.078064</td>\n",
       "    </tr>\n",
       "    <tr>\n",
       "      <th>pH</th>\n",
       "      <td>0.073896</td>\n",
       "    </tr>\n",
       "    <tr>\n",
       "      <th>residual sugar</th>\n",
       "      <td>0.070962</td>\n",
       "    </tr>\n",
       "    <tr>\n",
       "      <th>fixed acidity</th>\n",
       "      <td>0.066509</td>\n",
       "    </tr>\n",
       "    <tr>\n",
       "      <th>chlorides</th>\n",
       "      <td>0.065649</td>\n",
       "    </tr>\n",
       "    <tr>\n",
       "      <th>citric acid</th>\n",
       "      <td>0.062816</td>\n",
       "    </tr>\n",
       "    <tr>\n",
       "      <th>sulphates</th>\n",
       "      <td>0.060853</td>\n",
       "    </tr>\n",
       "  </tbody>\n",
       "</table>\n",
       "</div>"
      ],
      "text/plain": [
       "                      importance\n",
       "alcohol                 0.192386\n",
       "volatile acidity        0.121149\n",
       "free sulfur dioxide     0.106062\n",
       "density                 0.101654\n",
       "total sulfur dioxide    0.078064\n",
       "pH                      0.073896\n",
       "residual sugar          0.070962\n",
       "fixed acidity           0.066509\n",
       "chlorides               0.065649\n",
       "citric acid             0.062816\n",
       "sulphates               0.060853"
      ]
     },
     "execution_count": 62,
     "metadata": {},
     "output_type": "execute_result"
    }
   ],
   "source": [
    "feature_importances"
   ]
  },
  {
   "cell_type": "code",
   "execution_count": null,
   "metadata": {},
   "outputs": [],
   "source": []
  }
 ],
 "metadata": {
  "kernelspec": {
   "display_name": "TensorFlow",
   "language": "python",
   "name": "tensorflowenv"
  },
  "language_info": {
   "codemirror_mode": {
    "name": "ipython",
    "version": 3
   },
   "file_extension": ".py",
   "mimetype": "text/x-python",
   "name": "python",
   "nbconvert_exporter": "python",
   "pygments_lexer": "ipython3",
   "version": "3.7.0"
  }
 },
 "nbformat": 4,
 "nbformat_minor": 4
}
