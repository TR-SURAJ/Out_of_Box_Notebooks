{
 "cells": [
  {
   "cell_type": "code",
   "execution_count": 1,
   "metadata": {},
   "outputs": [],
   "source": [
    "from numpy import asarray\n",
    "from pandas import read_csv\n",
    "from sklearn.model_selection import train_test_split\n",
    "from sklearn.metrics import mean_absolute_error\n",
    "from sklearn.preprocessing import MinMaxScaler\n",
    "from tensorflow.keras.models import Sequential\n",
    "from tensorflow.keras.layers import Dense\n",
    "from tensorflow.keras.optimizers import Adam"
   ]
  },
  {
   "cell_type": "code",
   "execution_count": 5,
   "metadata": {},
   "outputs": [],
   "source": [
    "# load and prepare the dataset\n",
    "def load_dataset(url):\n",
    "    dataframe = read_csv(url, header=None)\n",
    "    values = dataframe.values\n",
    "    # split into input and output values\n",
    "    X, y = values[:, :-1], values[:,-1]\n",
    "    # split into train and test sets\n",
    "    X_train, X_test, y_train, y_test = train_test_split(X, y, train_size=0.67, random_state=1)\n",
    "    # scale input data\n",
    "    scaler = MinMaxScaler()\n",
    "    scaler.fit(X_train)\n",
    "    X_train = scaler.transform(X_train)\n",
    "    X_test = scaler.transform(X_test)\n",
    "    return X_train, X_test, y_train, y_test\n",
    "\n",
    "# define and fit the model\n",
    "def fit_model(X_train, y_train):\n",
    "    # define neural network model\n",
    "    features = X_train.shape[1]\n",
    "    model = Sequential()\n",
    "    model.add(Dense(20, kernel_initializer='he_normal', activation='relu', input_dim=features))\n",
    "    model.add(Dense(5, kernel_initializer='he_normal', activation='relu'))\n",
    "    model.add(Dense(1))\n",
    "    # compile the model and specify loss and optimizer\n",
    "    opt = Adam(learning_rate=0.01, beta_1=0.85, beta_2=0.999)\n",
    "    model.compile(optimizer=opt, loss='mse')\n",
    "    # fit the model on the training dataset\n",
    "    model.fit(X_train, y_train, verbose=0, epochs=300, batch_size=16)\n",
    "    return model\n",
    "\n",
    "# fit an ensemble of models\n",
    "def fit_ensemble(n_members, X_train, X_test, y_train, y_test):\n",
    "    ensemble = list()\n",
    "    for i in range(n_members):\n",
    "        # define and fit the model on the training set\n",
    "        model = fit_model(X_train, y_train)\n",
    "        # evaluate model on the test set\n",
    "        yhat = model.predict(X_test, verbose=0)\n",
    "        mae = mean_absolute_error(y_test, yhat)\n",
    "        print('>%d, MAE: %.3f' % (i+1, mae))\n",
    "        # store the model\n",
    "        ensemble.append(model)\n",
    "    return ensemble\n",
    "\n",
    "# make predictions with the ensemble and calculate a prediction interval\n",
    "def predict_with_pi(ensemble, X):\n",
    "    # make predictions\n",
    "    yhat = [model.predict(X, verbose=0) for model in ensemble]\n",
    "    print(len(yhat))\n",
    "    yhat = asarray(yhat)\n",
    "    # calculate 95% gaussian prediction interval\n",
    "    interval = 1.96 * yhat.std()\n",
    "    lower, upper = yhat.mean() - interval, yhat.mean() + interval\n",
    "    return lower, yhat.mean(), upper"
   ]
  },
  {
   "cell_type": "code",
   "execution_count": 3,
   "metadata": {},
   "outputs": [],
   "source": [
    "# load dataset\n",
    "url = 'https://raw.githubusercontent.com/jbrownlee/Datasets/master/housing.csv'\n",
    "X_train, X_test, y_train, y_test = load_dataset(url)"
   ]
  },
  {
   "cell_type": "code",
   "execution_count": 6,
   "metadata": {},
   "outputs": [
    {
     "name": "stdout",
     "output_type": "stream",
     "text": [
      ">1, MAE: 2.248\n",
      ">2, MAE: 2.453\n",
      ">3, MAE: 2.523\n",
      ">4, MAE: 2.444\n",
      ">5, MAE: 2.651\n",
      ">6, MAE: 2.222\n",
      ">7, MAE: 2.305\n",
      ">8, MAE: 2.368\n",
      ">9, MAE: 2.534\n",
      ">10, MAE: 2.336\n",
      ">11, MAE: 2.359\n",
      ">12, MAE: 2.333\n",
      ">13, MAE: 2.366\n",
      ">14, MAE: 2.544\n",
      ">15, MAE: 2.575\n",
      ">16, MAE: 2.494\n",
      ">17, MAE: 2.635\n",
      ">18, MAE: 2.418\n",
      ">19, MAE: 2.561\n",
      ">20, MAE: 2.381\n",
      ">21, MAE: 2.194\n",
      ">22, MAE: 2.420\n",
      ">23, MAE: 2.430\n",
      ">24, MAE: 2.484\n",
      ">25, MAE: 2.857\n",
      ">26, MAE: 2.398\n",
      ">27, MAE: 2.454\n",
      ">28, MAE: 2.374\n",
      ">29, MAE: 2.204\n",
      ">30, MAE: 2.383\n",
      "30\n",
      "Point prediction: 31.261\n",
      "95% prediction interval: [28.584, 33.938]\n",
      "True value: 28.200\n"
     ]
    }
   ],
   "source": [
    "# fit ensemble\n",
    "n_members = 30\n",
    "ensemble = fit_ensemble(n_members, X_train, X_test, y_train, y_test)\n",
    "# make predictions with prediction interval\n",
    "newX = asarray([X_test[0, :]])\n",
    "lower, mean, upper = predict_with_pi(ensemble, newX)\n",
    "print('Point prediction: %.3f' % mean)\n",
    "print('95%% prediction interval: [%.3f, %.3f]' % (lower, upper))\n",
    "print('True value: %.3f' % y_test[0])"
   ]
  },
  {
   "cell_type": "code",
   "execution_count": null,
   "metadata": {},
   "outputs": [],
   "source": []
  },
  {
   "cell_type": "code",
   "execution_count": null,
   "metadata": {},
   "outputs": [],
   "source": []
  }
 ],
 "metadata": {
  "kernelspec": {
   "display_name": "TensorFlow",
   "language": "python",
   "name": "tensorflowenv"
  },
  "language_info": {
   "codemirror_mode": {
    "name": "ipython",
    "version": 3
   },
   "file_extension": ".py",
   "mimetype": "text/x-python",
   "name": "python",
   "nbconvert_exporter": "python",
   "pygments_lexer": "ipython3",
   "version": "3.7.0"
  }
 },
 "nbformat": 4,
 "nbformat_minor": 4
}
