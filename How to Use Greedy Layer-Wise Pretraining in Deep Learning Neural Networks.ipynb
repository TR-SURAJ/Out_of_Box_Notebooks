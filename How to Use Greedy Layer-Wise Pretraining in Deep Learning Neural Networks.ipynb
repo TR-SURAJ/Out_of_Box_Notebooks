{
 "cells": [
  {
   "cell_type": "markdown",
   "metadata": {},
   "source": [
    "- Training deep neural networks was traditionally challenging as the vanishing gradient meant that weights in layers close to the input layer were not updated in response to errors calculated on the training dataset\n",
    "- An innovation and important milestone in the field of deep learning was greedy layer-wise pretraining that allowed very deep neural networks to be successfully trained, achieving then state-of-the-art performance"
   ]
  },
  {
   "cell_type": "markdown",
   "metadata": {},
   "source": [
    "#### Greedy Layer-Wise Pretraining"
   ]
  },
  {
   "cell_type": "markdown",
   "metadata": {},
   "source": [
    "Traditionally, training deep neural networks with many layers was challenging.\n",
    "\n",
    "As the number of hidden layers is increased, the amount of error information propagated back to earlier layers is dramatically reduced. This means that weights in hidden layers close to the output layer are updated normally, whereas weights in hidden layers close to the input layer are updated minimally or not at all. Generally, this problem prevented the training of very deep neural networks and was referred to as the vanishing gradient problem.\n",
    "\n",
    "An important milestone in the resurgence of neural networking that initially allowed the development of deeper neural network models was the technique of greedy layer-wise pretraining, often simply referred to as “pretraining.”\n",
    "\n",
    "Pretraining involves successively adding a new hidden layer to a model and refitting, allowing the newly added model to learn the inputs from the existing hidden layer, often while keeping the weights for the existing hidden layers fixed. This gives the technique the name “layer-wise” as the model is trained one layer at a time\n",
    "\n",
    "The technique is referred to as “greedy” because the piecewise or layer-wise approach to solving the harder problem of training a deep network. As an optimization process, dividing the training process into a succession of layer-wise training processes is seen as a greedy shortcut that likely leads to an aggregate of locally optimal solutions, a shortcut to a good enough global solution\n",
    "\n",
    "Greedy algorithms break a problem into many components, then solve for the optimal version of each component in isolation. Unfortunately, combining the individually optimal components is not guaranteed to yield an optimal complete solution.Builds on the premise that training a shallow network is easier than training a deep one, which seems to have been validated in several contexts"
   ]
  },
  {
   "cell_type": "code",
   "execution_count": 1,
   "metadata": {},
   "outputs": [
    {
     "name": "stderr",
     "output_type": "stream",
     "text": [
      "C:\\Users\\Suraj\\anaconda3\\envs\\tensorflowenv\\lib\\site-packages\\numpy\\_distributor_init.py:32: UserWarning: loaded more than 1 DLL from .libs:\n",
      "C:\\Users\\Suraj\\anaconda3\\envs\\tensorflowenv\\lib\\site-packages\\numpy\\.libs\\libopenblas.PYQHXLVVQ7VESDPUVUADXEVJOBGHJPAY.gfortran-win_amd64.dll\n",
      "C:\\Users\\Suraj\\anaconda3\\envs\\tensorflowenv\\lib\\site-packages\\numpy\\.libs\\libopenblas.WCDJNK7YVMPZQ2ME2ZZHJJRJ3JIKNDB7.gfortran-win_amd64.dll\n",
      "  stacklevel=1)\n"
     ]
    },
    {
     "name": "stdout",
     "output_type": "stream",
     "text": [
      "> layers=2, train=0.824, test=0.832\n",
      "> layers=3, train=0.840, test=0.822\n",
      "> layers=4, train=0.838, test=0.822\n",
      "> layers=5, train=0.836, test=0.820\n",
      "> layers=6, train=0.838, test=0.820\n",
      "> layers=7, train=0.832, test=0.818\n",
      "> layers=8, train=0.830, test=0.816\n",
      "> layers=9, train=0.830, test=0.824\n",
      "> layers=10, train=0.836, test=0.824\n",
      "> layers=11, train=0.838, test=0.818\n",
      "> layers=12, train=0.832, test=0.818\n"
     ]
    },
    {
     "data": {
      "image/png": "[encoded data removed]",
      "text/plain": [
       "<Figure size 432x288 with 1 Axes>"
      ]
     },
     "metadata": {
      "needs_background": "light"
     },
     "output_type": "display_data"
    }
   ],
   "source": [
    "# supervised greedy layer-wise pretraining for blobs classification problem\n",
    "from sklearn.datasets import make_blobs\n",
    "from keras.layers import Dense\n",
    "from keras.models import Sequential\n",
    "from keras.optimizers import SGD\n",
    "from keras.utils import to_categorical\n",
    "from matplotlib import pyplot\n",
    "\n",
    "# prepare the dataset\n",
    "def prepare_data():\n",
    "    # generate 2d classification dataset\n",
    "    X, y = make_blobs(n_samples=1000, centers=3, n_features=2, cluster_std=2, random_state=2)\n",
    "    # one hot encode output variable\n",
    "    y = to_categorical(y)\n",
    "    # split into train and test\n",
    "    n_train = 500\n",
    "    trainX, testX = X[:n_train, :], X[n_train:, :]\n",
    "    trainy, testy = y[:n_train], y[n_train:]\n",
    "    return trainX, testX, trainy, testy\n",
    "\n",
    "# define and fit the base model\n",
    "def get_base_model(trainX, trainy):\n",
    "    # define model\n",
    "    model = Sequential()\n",
    "    model.add(Dense(10, input_dim=2, activation='relu', kernel_initializer='he_uniform'))\n",
    "    model.add(Dense(3, activation='softmax'))\n",
    "    # compile model\n",
    "    opt = SGD(lr=0.01, momentum=0.9)\n",
    "    model.compile(loss='categorical_crossentropy', optimizer=opt, metrics=['accuracy'])\n",
    "    # fit model\n",
    "    model.fit(trainX, trainy, epochs=100, verbose=0)\n",
    "    return model\n",
    "\n",
    "# evaluate a fit model\n",
    "def evaluate_model(model, trainX, testX, trainy, testy):\n",
    "    _, train_acc = model.evaluate(trainX, trainy, verbose=0)\n",
    "    _, test_acc = model.evaluate(testX, testy, verbose=0)\n",
    "    return train_acc, test_acc\n",
    "\n",
    "# add one new layer and re-train only the new layer\n",
    "def add_layer(model, trainX, trainy):\n",
    "    # remember the current output layer\n",
    "    output_layer = model.layers[-1]\n",
    "    # remove the output layer\n",
    "    model.pop()\n",
    "    # mark all remaining layers as non-trainable\n",
    "    for layer in model.layers:\n",
    "        layer.trainable = False\n",
    "    # add a new hidden layer\n",
    "    model.add(Dense(10, activation='relu', kernel_initializer='he_uniform'))\n",
    "    # re-add the output layer\n",
    "    model.add(output_layer)\n",
    "    # fit model\n",
    "    model.fit(trainX, trainy, epochs=100, verbose=0)\n",
    "\n",
    "# prepare data\n",
    "trainX, testX, trainy, testy = prepare_data()\n",
    "# get the base model\n",
    "model = get_base_model(trainX, trainy)\n",
    "# evaluate the base model\n",
    "scores = dict()\n",
    "train_acc, test_acc = evaluate_model(model, trainX, testX, trainy, testy)\n",
    "print('> layers=%d, train=%.3f, test=%.3f' % (len(model.layers), train_acc, test_acc))\n",
    "scores[len(model.layers)] = (train_acc, test_acc)\n",
    "# add layers and evaluate the updated model\n",
    "n_layers = 10\n",
    "for i in range(n_layers):\n",
    "    # add layer\n",
    "    add_layer(model, trainX, trainy)\n",
    "    # evaluate model\n",
    "    train_acc, test_acc = evaluate_model(model, trainX, testX, trainy, testy)\n",
    "    print('> layers=%d, train=%.3f, test=%.3f' % (len(model.layers), train_acc, test_acc))\n",
    "    # store scores for plotting\n",
    "    scores[len(model.layers)] = (train_acc, test_acc)\n",
    "# plot number of added layers vs accuracy\n",
    "pyplot.plot(list(scores.keys()), [scores[k][0] for k in scores.keys()], label='train', marker='.')\n",
    "pyplot.plot(list(scores.keys()), [scores[k][1] for k in scores.keys()], label='test', marker='.')\n",
    "pyplot.legend()\n",
    "pyplot.show()"
   ]
  },
  {
   "cell_type": "code",
   "execution_count": null,
   "metadata": {},
   "outputs": [],
   "source": []
  }
 ],
 "metadata": {
  "kernelspec": {
   "display_name": "TensorFlow",
   "language": "python",
   "name": "tensorflowenv"
  },
  "language_info": {
   "codemirror_mode": {
    "name": "ipython",
    "version": 3
   },
   "file_extension": ".py",
   "mimetype": "text/x-python",
   "name": "python",
   "nbconvert_exporter": "python",
   "pygments_lexer": "ipython3",
   "version": "3.7.0"
  }
 },
 "nbformat": 4,
 "nbformat_minor": 4
}
