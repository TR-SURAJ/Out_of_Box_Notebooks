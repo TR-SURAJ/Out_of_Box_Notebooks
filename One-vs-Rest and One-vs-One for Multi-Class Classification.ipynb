{
 "cells": [
  {
   "cell_type": "markdown",
   "metadata": {},
   "source": [
    "- Not all classification predictive models support multi-class classification\n",
    "- Algorithms such as the Perceptron, Logistic Regression, and Support Vector Machines were designed for binary classification and do not natively support classification tasks with more than two classes\n",
    "- One approach for using binary classification algorithms for multi-classification problems is to split the multi-class classification dataset into multiple binary classification datasets and fit a binary classification model on each\n",
    "- Two different examples of this approach are the One-vs-Rest and One-vs-One strategies\n",
    "- The One-vs-Rest strategy splits a multi-class classification into one binary classification problem per class\n",
    "- The One-vs-One strategy splits a multi-class classification into one binary classification problem per each pair of classes"
   ]
  },
  {
   "cell_type": "markdown",
   "metadata": {},
   "source": [
    "#### One-Vs-Rest for Multi-Class Classification"
   ]
  },
  {
   "cell_type": "markdown",
   "metadata": {},
   "source": [
    "- One-vs-rest is a heuristic method for using binary classification algorithms for multi-class classification\n",
    "- It involves splitting the multi-class dataset into multiple binary classification problems\n",
    "- A binary classifier is then trained on each binary classification problem and predictions are made using the model that is the most confident\n",
    "- For example, given a multi-class classification problem with examples for each class ‘red,’ ‘blue,’ and ‘green‘. This could be divided into three binary classification datasets as follows:\n",
    "    - Binary Classification Problem 1: red vs [blue, green]\n",
    "    - Binary Classification Problem 2: blue vs [red, green]\n",
    "    - Binary Classification Problem 3: green vs [red, blue]\n",
    "- A possible downside of this approach is that it requires one model to be created for each class. For example, three classes requires three models. This could be an issue for large datasets (e.g. millions of rows), slow models (e.g. neural networks), or very large numbers of classes (e.g. hundreds of classes)"
   ]
  },
  {
   "cell_type": "code",
   "execution_count": 3,
   "metadata": {},
   "outputs": [
    {
     "name": "stdout",
     "output_type": "stream",
     "text": [
      "0.696\n"
     ]
    }
   ],
   "source": [
    "from sklearn.datasets import make_classification\n",
    "from sklearn.linear_model import LogisticRegression\n",
    "from sklearn.metrics import accuracy_score\n",
    "\n",
    "X, y = make_classification(n_samples=1000, n_features=10, n_informative=5, n_redundant=5, n_classes=3, random_state=1)\n",
    "model = LogisticRegression(multi_class='ovr')\n",
    "model.fit(X, y)\n",
    "yhat = model.predict(X)\n",
    "print(accuracy_score(y,yhat))"
   ]
  },
  {
   "cell_type": "code",
   "execution_count": 4,
   "metadata": {},
   "outputs": [
    {
     "name": "stdout",
     "output_type": "stream",
     "text": [
      "0.696\n"
     ]
    }
   ],
   "source": [
    "from sklearn.datasets import make_classification\n",
    "from sklearn.linear_model import LogisticRegression\n",
    "from sklearn.multiclass import OneVsRestClassifier\n",
    "\n",
    "X, y = make_classification(n_samples=1000, n_features=10, n_informative=5, n_redundant=5, n_classes=3, random_state=1)\n",
    "model = LogisticRegression()\n",
    "ovr = OneVsRestClassifier(model)\n",
    "ovr.fit(X, y)\n",
    "yhat = ovr.predict(X)\n",
    "print(accuracy_score(y,yhat))"
   ]
  },
  {
   "cell_type": "markdown",
   "metadata": {},
   "source": [
    "#### One-Vs-One for Multi-Class Classification"
   ]
  },
  {
   "cell_type": "markdown",
   "metadata": {},
   "source": [
    "- Like one-vs-rest, one-vs-one splits a multi-class classification dataset into binary classification problems. Unlike one-vs-rest that splits it into one binary dataset for each class, the one-vs-one approach splits the dataset into one dataset for each class versus every other class\n",
    "    - Binary Classification Problem 1: red vs. blue\n",
    "    - Binary Classification Problem 2: red vs. green\n",
    "    - Binary Classification Problem 3: red vs. yellow\n",
    "    - Binary Classification Problem 4: blue vs. green\n",
    "    - Binary Classification Problem 5: blue vs. yellow\n",
    "    - Binary Classification Problem 6: green vs. yellow\n",
    "- This is significantly more datasets, and in turn, models than the one-vs-rest strategy\n",
    "- Each binary classification model may predict one class label and the model with the most predictions or votes is predicted by the one-vs-one strategy"
   ]
  },
  {
   "cell_type": "code",
   "execution_count": 5,
   "metadata": {},
   "outputs": [
    {
     "name": "stdout",
     "output_type": "stream",
     "text": [
      "0.89\n"
     ]
    }
   ],
   "source": [
    "from sklearn.datasets import make_classification\n",
    "from sklearn.svm import SVC\n",
    "\n",
    "X, y = make_classification(n_samples=1000, n_features=10, n_informative=5, n_redundant=5, n_classes=3, random_state=1)\n",
    "model = SVC(decision_function_shape='ovo')\n",
    "model.fit(X, y)\n",
    "yhat = model.predict(X)\n",
    "print(accuracy_score(y,yhat))"
   ]
  },
  {
   "cell_type": "code",
   "execution_count": null,
   "metadata": {},
   "outputs": [],
   "source": [
    "from sklearn.datasets import make_classification\n",
    "from sklearn.svm import SVC\n",
    "from sklearn.multiclass import OneVsOneClassifier\n",
    "\n",
    "X, y = make_classification(n_samples=1000, n_features=10, n_informative=5, n_redundant=5, n_classes=3, random_state=1)\n",
    "model = SVC()\n",
    "ovo = OneVsOneClassifier(model)\n",
    "ovo.fit(X, y)\n",
    "yhat = ovo.predict(X)\n"
   ]
  }
 ],
 "metadata": {
  "kernelspec": {
   "display_name": "TensorFlow",
   "language": "python",
   "name": "tensorflowenv"
  },
  "language_info": {
   "codemirror_mode": {
    "name": "ipython",
    "version": 3
   },
   "file_extension": ".py",
   "mimetype": "text/x-python",
   "name": "python",
   "nbconvert_exporter": "python",
   "pygments_lexer": "ipython3",
   "version": "3.7.0"
  }
 },
 "nbformat": 4,
 "nbformat_minor": 4
}
