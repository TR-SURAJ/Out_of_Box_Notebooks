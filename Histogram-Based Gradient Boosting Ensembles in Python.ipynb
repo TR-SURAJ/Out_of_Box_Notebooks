{
 "cells": [
  {
   "cell_type": "markdown",
   "metadata": {},
   "source": [
    "- Gradient boosting is an ensemble of decision trees algorithms\n",
    "- Boosting refers to a class of ensemble learning algorithms that add tree models to an ensemble sequentially\n",
    "- Each tree model added to the ensemble attempts to correct the prediction errors made by the tree models already present in the ensemble\n",
    "- It may be one of the most popular techniques for structured (tabular) classification and regression predictive modeling problems given that it performs so well across a wide range of datasets in practice\n",
    "- A major problem of gradient boosting is that it is slow to train the model\n",
    "- This is because trees must be created and added sequentially, unlike other ensemble models like random forest where ensemble members can be trained in parallel, exploiting multiple CPU cores\n",
    "- Training the trees that are added to the ensemble can be dramatically accelerated by discretizing (binning) the continuous input variables to a few hundred unique values\n",
    "- Gradient boosting ensembles that implement this technique and tailor the training algorithm around input variables under this transform are referred to as histogram-based gradient boosting ensembles\n",
    "- The construction of decision trees can be speed up significantly by reducing the number of values for continuous input features. This can be achieved by discretization or binning values into a fixed number of buckets. This can reduce the number of unique values for each feature from tens of thousands down to a few hundred."
   ]
  },
  {
   "cell_type": "markdown",
   "metadata": {},
   "source": [
    "#### Histogram Gradient Boosting With Scikit-Learn"
   ]
  },
  {
   "cell_type": "code",
   "execution_count": 1,
   "metadata": {},
   "outputs": [
    {
     "name": "stdout",
     "output_type": "stream",
     "text": [
      ">10 0.945 (0.009)\n",
      ">50 0.944 (0.007)\n",
      ">100 0.944 (0.008)\n",
      ">150 0.944 (0.008)\n",
      ">200 0.944 (0.007)\n",
      ">255 0.943 (0.007)\n"
     ]
    },
    {
     "data": {
      "image/png": "[encoded data removed]",
      "text/plain": [
       "<Figure size 432x288 with 1 Axes>"
      ]
     },
     "metadata": {
      "needs_background": "light"
     },
     "output_type": "display_data"
    }
   ],
   "source": [
    "# compare number of bins for sklearn histogram gradient boosting\n",
    "from numpy import mean\n",
    "from numpy import std\n",
    "from sklearn.datasets import make_classification\n",
    "from sklearn.model_selection import cross_val_score\n",
    "from sklearn.model_selection import RepeatedStratifiedKFold\n",
    "from sklearn.experimental import enable_hist_gradient_boosting\n",
    "from sklearn.ensemble import HistGradientBoostingClassifier\n",
    "from matplotlib import pyplot\n",
    "\n",
    "def get_dataset():\n",
    "    X, y = make_classification(n_samples=10000, n_features=100, n_informative=50, n_redundant=50, random_state=1)\n",
    "    return X, y\n",
    "\n",
    "def get_models():\n",
    "    models = dict()\n",
    "    for i in [10, 50, 100, 150, 200, 255]:\n",
    "        models[str(i)] = HistGradientBoostingClassifier(max_bins=i, max_iter=100)\n",
    "    return models\n",
    "\n",
    "def evaluate_model(model, X, y):   \n",
    "    cv = RepeatedStratifiedKFold(n_splits=10, n_repeats=3, random_state=1)\n",
    "    scores = cross_val_score(model, X, y, scoring='accuracy', cv=cv, n_jobs=-1)\n",
    "    return scores\n",
    "\n",
    "\n",
    "X, y = get_dataset()\n",
    "models = get_models()\n",
    "\n",
    "results, names = list(), list()\n",
    "for name, model in models.items():\n",
    "    scores = evaluate_model(model, X, y)\n",
    "    results.append(scores)\n",
    "    names.append(name)\n",
    "    print('>%s %.3f (%.3f)' % (name, mean(scores), std(scores)))\n",
    "    \n",
    "pyplot.boxplot(results, labels=names, showmeans=True)\n",
    "pyplot.show()"
   ]
  },
  {
   "cell_type": "code",
   "execution_count": 2,
   "metadata": {},
   "outputs": [
    {
     "data": {
      "text/plain": [
       "[array([0.961, 0.943, 0.954, 0.944, 0.937, 0.936, 0.94 , 0.937, 0.947,\n",
       "        0.951, 0.959, 0.944, 0.954, 0.951, 0.929, 0.925, 0.956, 0.957,\n",
       "        0.954, 0.946, 0.941, 0.952, 0.944, 0.948, 0.929, 0.936, 0.949,\n",
       "        0.945, 0.947, 0.94 ]),\n",
       " array([0.955, 0.951, 0.95 , 0.944, 0.943, 0.926, 0.941, 0.937, 0.948,\n",
       "        0.957, 0.95 , 0.947, 0.949, 0.94 , 0.935, 0.928, 0.949, 0.946,\n",
       "        0.951, 0.941, 0.945, 0.945, 0.948, 0.941, 0.936, 0.939, 0.944,\n",
       "        0.938, 0.937, 0.951]),\n",
       " array([0.954, 0.945, 0.958, 0.939, 0.939, 0.926, 0.94 , 0.944, 0.948,\n",
       "        0.953, 0.947, 0.941, 0.947, 0.947, 0.931, 0.928, 0.951, 0.943,\n",
       "        0.95 , 0.938, 0.942, 0.949, 0.944, 0.952, 0.935, 0.935, 0.948,\n",
       "        0.938, 0.946, 0.952]),\n",
       " array([0.958, 0.945, 0.952, 0.938, 0.942, 0.931, 0.93 , 0.944, 0.949,\n",
       "        0.953, 0.955, 0.942, 0.944, 0.949, 0.93 , 0.924, 0.951, 0.946,\n",
       "        0.95 , 0.942, 0.946, 0.941, 0.952, 0.94 , 0.946, 0.937, 0.942,\n",
       "        0.94 , 0.937, 0.952]),\n",
       " array([0.949, 0.944, 0.948, 0.943, 0.937, 0.927, 0.937, 0.95 , 0.941,\n",
       "        0.949, 0.954, 0.944, 0.949, 0.95 , 0.935, 0.93 , 0.958, 0.944,\n",
       "        0.945, 0.94 , 0.936, 0.941, 0.949, 0.942, 0.947, 0.94 , 0.944,\n",
       "        0.942, 0.941, 0.95 ]),\n",
       " array([0.949, 0.948, 0.946, 0.942, 0.933, 0.932, 0.939, 0.938, 0.951,\n",
       "        0.949, 0.95 , 0.934, 0.945, 0.942, 0.932, 0.928, 0.952, 0.943,\n",
       "        0.953, 0.937, 0.944, 0.949, 0.945, 0.951, 0.936, 0.937, 0.947,\n",
       "        0.937, 0.939, 0.947])]"
      ]
     },
     "execution_count": 2,
     "metadata": {},
     "output_type": "execute_result"
    }
   ],
   "source": [
    "results    "
   ]
  },
  {
   "cell_type": "markdown",
   "metadata": {},
   "source": [
    "We can see that increasing the number of bins in the histogram appears to reduce the spread of the distribution"
   ]
  },
  {
   "cell_type": "markdown",
   "metadata": {},
   "source": [
    "#### Histogram Gradient Boosting With XGBoost"
   ]
  },
  {
   "cell_type": "code",
   "execution_count": 3,
   "metadata": {},
   "outputs": [
    {
     "name": "stdout",
     "output_type": "stream",
     "text": [
      "Accuracy: 0.875 (0.010)\n"
     ]
    }
   ],
   "source": [
    "from numpy import mean\n",
    "from numpy import std\n",
    "from sklearn.datasets import make_classification\n",
    "from sklearn.model_selection import cross_val_score\n",
    "from sklearn.model_selection import RepeatedStratifiedKFold\n",
    "from xgboost import XGBClassifier\n",
    "\n",
    "X, y = make_classification(n_samples=10000, n_features=100, n_informative=50, n_redundant=50, random_state=1)\n",
    "model = XGBClassifier(tree_method='approx', max_bin=255, n_estimators=100)\n",
    "cv = RepeatedStratifiedKFold(n_splits=10, n_repeats=3, random_state=1)\n",
    "n_scores = cross_val_score(model, X, y, scoring='accuracy', cv=cv, n_jobs=-1)\n",
    "print('Accuracy: %.3f (%.3f)' % (mean(n_scores), std(n_scores)))"
   ]
  }
 ],
 "metadata": {
  "kernelspec": {
   "display_name": "TensorFlow",
   "language": "python",
   "name": "tensorflowenv"
  },
  "language_info": {
   "codemirror_mode": {
    "name": "ipython",
    "version": 3
   },
   "file_extension": ".py",
   "mimetype": "text/x-python",
   "name": "python",
   "nbconvert_exporter": "python",
   "pygments_lexer": "ipython3",
   "version": "3.7.0"
  }
 },
 "nbformat": 4,
 "nbformat_minor": 4
}
